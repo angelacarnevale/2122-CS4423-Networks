{
 "cells": [
  {
   "cell_type": "markdown",
   "metadata": {
    "slideshow": {
     "slide_type": "skip"
    }
   },
   "source": [
    "### CS4423 - Networks\n",
    "Angela Carnevale <br />\n",
    "School of Mathematical and Statistical Sciences<br />\n",
    "NUI Galway"
   ]
  },
  {
   "cell_type": "markdown",
   "metadata": {
    "slideshow": {
     "slide_type": "slide"
    }
   },
   "source": [
    "#### 6. Directed Networks\n",
    "\n",
    "# Week 11, lecture 2: The Structure of the World Wide Web"
   ]
  },
  {
   "cell_type": "markdown",
   "metadata": {},
   "source": [
    "We have seen that in some networks, especially information networks, edges carry an additional piece of information: they tell us which node is the **source** and which is the **target**. That is, they are **directed edges** (we can think of them as arrows). "
   ]
  },
  {
   "cell_type": "markdown",
   "metadata": {
    "slideshow": {
     "slide_type": "fragment"
    }
   },
   "source": [
    "As with undirected graphs, an interesting question in\n",
    "directed graphs is: which nodes can be reached from\n",
    "a given node?"
   ]
  },
  {
   "cell_type": "markdown",
   "metadata": {
    "slideshow": {
     "slide_type": "slide"
    }
   },
   "source": [
    "### Reachability in Directed Graphs"
   ]
  },
  {
   "cell_type": "markdown",
   "metadata": {
    "slideshow": {
     "slide_type": "subslide"
    }
   },
   "source": [
    "Recall that a **directed graph** is a pair $G = (X, E)$\n",
    "with **vertex set** $X$  and **edge set** $E \\subseteq X^2 = X \\times X$.\n",
    "For an edge $(x, y) \\in E$ we sometimes write $x \\to y$."
   ]
  },
  {
   "cell_type": "markdown",
   "metadata": {
    "slideshow": {
     "slide_type": "subslide"
    }
   },
   "source": [
    "A **path** in a directed graph  $G = (X, E)$\n",
    "is a sequence of nodes $(x_0, x_1, \\dots, x_l)$\n",
    "with $x_{i-1} \\to x_i$ for $i = 1,\\dots, l$.\n",
    "The number $l$ is called the **length** of the path.\n",
    "We write $x \\leadsto y$\n",
    "if there exists a path (possibly of length $0$)\n",
    "from $x$ to $y$ in $G$."
   ]
  },
  {
   "cell_type": "markdown",
   "metadata": {
    "slideshow": {
     "slide_type": "subslide"
    }
   },
   "source": [
    "**Definition.** A directed graph $G$ is **weakly connected** if, when\n",
    "considerd as undirected graph, it is connected.\n",
    "The **weakly connnected components** (WCCs) of $G$ are its connected components,\n",
    "when considered as undirected graph."
   ]
  },
  {
   "cell_type": "markdown",
   "metadata": {
    "slideshow": {
     "slide_type": "subslide"
    }
   },
   "source": [
    "**Definition.** A directed graph $G$ is **strongly connected** if, for\n",
    "each pair of vertices $x, y \\in X$, there is a path from\n",
    "$x$ to $y$ in $G$, i.e., if $x \\leadsto y$."
   ]
  },
  {
   "cell_type": "markdown",
   "metadata": {
    "slideshow": {
     "slide_type": "subslide"
    }
   },
   "source": [
    "A **strongly connected component (SCC)** of a directed graph $G$\n",
    "is a subset $C$ of $X$ which is \n",
    "\n",
    "(i) strongly connected, and\n",
    "\n",
    "(ii) not part of a larger strongly connected subset of $X$."
   ]
  },
  {
   "cell_type": "markdown",
   "metadata": {
    "slideshow": {
     "slide_type": "subslide"
    }
   },
   "source": [
    "In general, a directed graph is a collection of WCCs.\n",
    "Each WCC in turn is a collection of SCCs."
   ]
  },
  {
   "cell_type": "markdown",
   "metadata": {
    "slideshow": {
     "slide_type": "subslide"
    }
   },
   "source": [
    "When a directed graph $G$ is regarded as a **relation**\n",
    "on the set $X$, strongly connected components can be described as\n",
    "the **equivalence classes** of an equivalence relation that is obtained\n",
    "as follows."
   ]
  },
  {
   "cell_type": "markdown",
   "metadata": {
    "slideshow": {
     "slide_type": "subslide"
    }
   },
   "source": [
    "First note that the relation ${x \\leadsto y}$\n",
    "is the reflexive and transitive closure of the\n",
    "edge relation $x \\to y$.  \n",
    "\n",
    "Thus, by construction it is reflexive and\n",
    "transitive.  \n",
    "\n",
    "It needn't be symmetric, and it might not be anti-symmetric, though. That is, there might be vertices $x$ and $y$\n",
    "with $x\\leadsto y$ and $y \n",
    "\\leadsto x$ (and it won't be all of them)."
   ]
  },
  {
   "cell_type": "markdown",
   "metadata": {
    "slideshow": {
     "slide_type": "subslide"
    }
   },
   "source": [
    "However, we can define a new relation as follows.\n",
    "\n",
    "**Definition.** We set $x \\equiv y$ if $x \\leadsto y$ _and_ $y \\leadsto x$."
   ]
  },
  {
   "cell_type": "markdown",
   "metadata": {
    "slideshow": {
     "slide_type": "fragment"
    }
   },
   "source": [
    "This **is** an equivalence relation we get equivalence classes that partition our graph. These equivalence classes are the strongly connected\n",
    "components of $G$.  We denote the class of $x \\in X$ by $[x]$."
   ]
  },
  {
   "cell_type": "markdown",
   "metadata": {
    "slideshow": {
     "slide_type": "subslide"
    }
   },
   "source": [
    "Moreover, there is a partial order relation\n",
    "$\\leq$ (a relation which is reflexive, transitive and anti-symmetric)\n",
    "on the set of equivalence classes:\n",
    "\n",
    "$[x] \\leq [y]$ if $x \\leadsto y$."
   ]
  },
  {
   "cell_type": "markdown",
   "metadata": {
    "slideshow": {
     "slide_type": "subslide"
    }
   },
   "source": [
    "We can say something about the structure of the WWW in terms of these equivalence classes and of the partial order on them."
   ]
  },
  {
   "cell_type": "markdown",
   "metadata": {
    "slideshow": {
     "slide_type": "slide"
    }
   },
   "source": [
    "### The Bow-Tie Structure of the WWW"
   ]
  },
  {
   "cell_type": "markdown",
   "metadata": {
    "slideshow": {
     "slide_type": "subslide"
    }
   },
   "source": [
    "Like the giant component in a simple graph, it turns out that\n",
    "a directed graph with sufficiently many edges\n",
    "has  a **giant SCC**."
   ]
  },
  {
   "cell_type": "markdown",
   "metadata": {
    "slideshow": {
     "slide_type": "subslide"
    }
   },
   "source": [
    "The remainder of the graph consists of four more sets of components of nodes, as follows:\n",
    "\n",
    "1. IN: upstream components, the set of all components\n",
    "$C$ with $C <$ SCC.\n",
    "\n",
    "2. OUT: downstream components,\n",
    "the set of all components $C$ with $C >$ SCC."
   ]
  },
  {
   "cell_type": "markdown",
   "metadata": {
    "slideshow": {
     "slide_type": "subslide"
    }
   },
   "source": [
    "3. tendrils: the set of all components $C$ with either $C >$ IN and $C \\not<$ OUT\n",
    "or $C <$ OUT and $C \\not>$ IN; <BR />\n",
    "and tubes: components $C$ with $C >$ IN, $C <$ OUT but $C \\not <$ SCC.\n",
    "\n",
    "4. disconnected components."
   ]
  },
  {
   "cell_type": "markdown",
   "metadata": {},
   "source": [
    "Thus, in any directed graph with a distinguished SCC,\n",
    "the WCC in which it is contained\n",
    "necessarily has the following global bow-tie structure:"
   ]
  },
  {
   "cell_type": "markdown",
   "metadata": {},
   "source": [
    "![bow tie](images/bowtie.png)"
   ]
  },
  {
   "cell_type": "markdown",
   "metadata": {
    "slideshow": {
     "slide_type": "subslide"
    }
   },
   "source": [
    "Research on available data on the Web in 1999 has confirmed this\n",
    "bow tie structure for the World Wide Web, with a **large Giant SCC**\n",
    "covering less than $\\frac13$ of the vertex set,\n",
    "and the\n",
    "three parts IN, OUT and the tendrils and tubes roughly of the same\n",
    "size.  One can assume that this proportion has not changed much over\n",
    "time, although the advent of social media\n",
    "has brought many new types of links and\n",
    "documents to the Web.\n"
   ]
  },
  {
   "cell_type": "markdown",
   "metadata": {
    "slideshow": {
     "slide_type": "slide"
    }
   },
   "source": [
    "## Computing Bow-Tie Components"
   ]
  },
  {
   "cell_type": "code",
   "execution_count": null,
   "metadata": {
    "slideshow": {
     "slide_type": "subslide"
    }
   },
   "outputs": [],
   "source": [
    "import networkx as nx\n",
    "import matplotlib.pyplot as plt\n",
    "opts = { \"with_labels\" : True, \"node_color\" : 'y' }"
   ]
  },
  {
   "cell_type": "markdown",
   "metadata": {
    "slideshow": {
     "slide_type": "subslide"
    }
   },
   "source": [
    "**Example.**  Let's start with a reasonably large random **directed graph**,\n",
    "using the Erdős-R&eacute;nyi $G(n, m)$ model:"
   ]
  },
  {
   "cell_type": "code",
   "execution_count": null,
   "metadata": {
    "slideshow": {
     "slide_type": "subslide"
    }
   },
   "outputs": [],
   "source": [
    "n, m = 100, 120\n",
    "G = nx.gnm_random_graph(n, m, directed=True)"
   ]
  },
  {
   "cell_type": "markdown",
   "metadata": {
    "slideshow": {
     "slide_type": "subslide"
    }
   },
   "source": [
    "### Weakly Connected Components"
   ]
  },
  {
   "cell_type": "markdown",
   "metadata": {
    "slideshow": {
     "slide_type": "subslide"
    }
   },
   "source": [
    "The weakly connected components of a directed graph $G$ can be determined by BFS, as before,\n",
    "counting as \"neighbors\" of a node $x$ **both** its _successors_ and it _predecessors_ in the graph.\n",
    "\n",
    "A single component, the weakly connected component of node $x$, is found as follows."
   ]
  },
  {
   "cell_type": "code",
   "execution_count": null,
   "metadata": {
    "slideshow": {
     "slide_type": "subslide"
    }
   },
   "outputs": [],
   "source": [
    "def weak_component(G, x):\n",
    "    nodes = {x}\n",
    "    queue = [x]\n",
    "    for y in queue:\n",
    "        G.nodes[y][\"seen\"] = True\n",
    "        for z in set(G.successors(y)) | set(G.predecessors(y)): ## preds+succs are the neighbours of a node\n",
    "            if z not in nodes:\n",
    "                nodes.add(z)\n",
    "                queue.append(z)\n",
    "    return nodes"
   ]
  },
  {
   "cell_type": "markdown",
   "metadata": {
    "slideshow": {
     "slide_type": "subslide"
    }
   },
   "source": [
    "The list of all weakly connected components is computed by looping over all the  nodes of `G`,\n",
    "computing the components of \"unseen\" nodes and collecting them in a list.\n",
    "The final result is sorted by decreasing length before it is returned."
   ]
  },
  {
   "cell_type": "code",
   "execution_count": null,
   "metadata": {
    "slideshow": {
     "slide_type": "subslide"
    }
   },
   "outputs": [],
   "source": [
    "def weak_components(G):\n",
    "    \n",
    "    # initialize\n",
    "    wccs = []\n",
    "    \n",
    "    # find each node's wcc\n",
    "    for x in G:\n",
    "        if not G.nodes[x].get(\"seen\"):\n",
    "            wccs.append(weak_component(G, x))\n",
    "            \n",
    "    # clean up after yourself\n",
    "    for x in G:\n",
    "        del G.nodes[x][\"seen\"]\n",
    "        \n",
    "    # return sorted list of wccs\n",
    "    return sorted(wccs, key=len, reverse=True)"
   ]
  },
  {
   "cell_type": "code",
   "execution_count": null,
   "metadata": {
    "slideshow": {
     "slide_type": "subslide"
    }
   },
   "outputs": [],
   "source": [
    "wccs = weak_components(G)\n",
    "len(wccs)"
   ]
  },
  {
   "cell_type": "code",
   "execution_count": null,
   "metadata": {
    "slideshow": {
     "slide_type": "subslide"
    }
   },
   "outputs": [],
   "source": [
    "[len(c) for c in wccs]"
   ]
  },
  {
   "cell_type": "markdown",
   "metadata": {
    "slideshow": {
     "slide_type": "slide"
    }
   },
   "source": [
    "### Strongly Connected Components"
   ]
  },
  {
   "cell_type": "markdown",
   "metadata": {
    "slideshow": {
     "slide_type": "subslide"
    }
   },
   "source": [
    "**Strongly** connected components are efficiently found by DFS.\n",
    "[Tarjan's Algorithm](https://en.wikipedia.org/wiki/Tarjan%27s_strongly_connected_components_algorithm) cleverly\n",
    "uses recursion and an additional stack for this.\n",
    "\n",
    "The following function finds strongly connected components in a recursive fashion. "
   ]
  },
  {
   "cell_type": "code",
   "execution_count": null,
   "metadata": {
    "slideshow": {
     "slide_type": "subslide"
    }
   },
   "outputs": [],
   "source": [
    "def connect(G, stack, sccs, idx, x):\n",
    "    G.nodes[x][\"low\"] = G.nodes[x][\"idx\"] = idx\n",
    "    idx += 1\n",
    "    stack.append(x)\n",
    "    G.nodes[x][\"stacked\"] = True\n",
    "    for y in G[x]:\n",
    "        if \"idx\" not in  G.nodes[y]:\n",
    "            idx = connect(G, stack, sccs, idx, y)\n",
    "            G.nodes[x][\"low\"] = min(G.nodes[x][\"low\"], G.nodes[y][\"low\"])\n",
    "        elif G.nodes[y][\"stacked\"]:\n",
    "            G.nodes[x][\"low\"] = min(G.nodes[x][\"low\"], G.nodes[y][\"idx\"])\n",
    "                \n",
    "    if G.nodes[x][\"low\"] == G.nodes[x][\"idx\"]:\n",
    "        scc = []\n",
    "        while True:\n",
    "            y = stack.pop()\n",
    "            G.nodes[y][\"stacked\"] = False\n",
    "            scc.append(y)\n",
    "            if y == x:\n",
    "                break\n",
    "        sccs.append(scc)\n",
    "            \n",
    "    return idx\n"
   ]
  },
  {
   "cell_type": "markdown",
   "metadata": {
    "slideshow": {
     "slide_type": "subslide"
    }
   },
   "source": [
    "Similar as in the case of the weakly connected components, the overall algorithm\n",
    "uses a loop over all the nodes of `G` to find all strongly connected components."
   ]
  },
  {
   "cell_type": "code",
   "execution_count": null,
   "metadata": {
    "slideshow": {
     "slide_type": "subslide"
    }
   },
   "outputs": [],
   "source": [
    "def strong_components(G):\n",
    "    \n",
    "    # initialize\n",
    "    idx = 0\n",
    "    stack = []\n",
    "    sccs = []\n",
    "    \n",
    "    # find each node's scc\n",
    "    for x in G:\n",
    "        if \"idx\" not in G.nodes[x]:\n",
    "            idx = connect(G, stack, sccs, idx, x)\n",
    "\n",
    "    # clean up after yourself\n",
    "    for x in G:\n",
    "        del G.nodes[x][\"idx\"]\n",
    "        del G.nodes[x][\"low\"]\n",
    "        del G.nodes[x][\"stacked\"]\n",
    "    \n",
    "    # return sorted list of sccs\n",
    "    return sorted(sccs, key = len, reverse=True)"
   ]
  },
  {
   "cell_type": "code",
   "execution_count": null,
   "metadata": {
    "slideshow": {
     "slide_type": "subslide"
    }
   },
   "outputs": [],
   "source": [
    "sccs = strong_components(G)\n",
    "[len(c) for c in sccs[:10]] ## this list is eventually 1 so looking at a few entries suffices"
   ]
  },
  {
   "cell_type": "markdown",
   "metadata": {
    "slideshow": {
     "slide_type": "subslide"
    }
   },
   "source": [
    "As the resulting list of components is sorted by length, in descending order,\n",
    "`sccs[0]` is the **Giant SCC**."
   ]
  },
  {
   "cell_type": "markdown",
   "metadata": {
    "slideshow": {
     "slide_type": "slide"
    }
   },
   "source": [
    "### The OUT Components"
   ]
  },
  {
   "cell_type": "markdown",
   "metadata": {
    "slideshow": {
     "slide_type": "subslide"
    }
   },
   "source": [
    "The components reachable from the Giant can be found by BFS applied to any\n",
    "vertex in the Giant. So here is a node representating the Giant:"
   ]
  },
  {
   "cell_type": "code",
   "execution_count": null,
   "metadata": {
    "slideshow": {
     "slide_type": "subslide"
    }
   },
   "outputs": [],
   "source": [
    "rep = min(sccs[0])\n",
    "rep"
   ]
  },
  {
   "cell_type": "markdown",
   "metadata": {
    "slideshow": {
     "slide_type": "subslide"
    }
   },
   "source": [
    "This variant of BFS considers the `successors` of a node $x$ as its neighbors."
   ]
  },
  {
   "cell_type": "code",
   "execution_count": null,
   "metadata": {
    "slideshow": {
     "slide_type": "subslide"
    }
   },
   "outputs": [],
   "source": [
    "def outreach(G, x):\n",
    "    \"\"\"find all nodes that can be reached \n",
    "    from node x in the directed graph G\"\"\"\n",
    "    nodes = {x}\n",
    "    queue = [x]\n",
    "    for y in queue:\n",
    "        for z in G.successors(y):\n",
    "            if z not in nodes:\n",
    "                nodes.add(z)\n",
    "                queue.append(z)\n",
    "    return nodes"
   ]
  },
  {
   "cell_type": "markdown",
   "metadata": {
    "slideshow": {
     "slide_type": "subslide"
    }
   },
   "source": [
    "The resulting list of nodes consists of the Giant and the OUT components."
   ]
  },
  {
   "cell_type": "code",
   "execution_count": null,
   "metadata": {
    "slideshow": {
     "slide_type": "fragment"
    }
   },
   "outputs": [],
   "source": [
    "out = outreach(G, rep)\n",
    "len(out)"
   ]
  },
  {
   "cell_type": "markdown",
   "metadata": {
    "slideshow": {
     "slide_type": "subslide"
    }
   },
   "source": [
    "The components reachable from the Giant can be found by BFS applied to any\n",
    "vertex in the Giant, following the arrows in reverse. \n",
    "\n",
    "This variant of BFS considers the `predecessors` of a node $x$ as its neighbors."
   ]
  },
  {
   "cell_type": "code",
   "execution_count": null,
   "metadata": {
    "slideshow": {
     "slide_type": "subslide"
    }
   },
   "outputs": [],
   "source": [
    "def innreach(G, x):\n",
    "    \"\"\"find all nodes that can reach \n",
    "    node x in the directed graph G\"\"\"\n",
    "    nodes = {x}\n",
    "    queue = [x]\n",
    "    for y in queue:\n",
    "        for z in G.predecessors(y):\n",
    "            if z not in nodes:\n",
    "                nodes.add(z)\n",
    "                queue.append(z)\n",
    "    return nodes"
   ]
  },
  {
   "cell_type": "markdown",
   "metadata": {
    "slideshow": {
     "slide_type": "subslide"
    }
   },
   "source": [
    "The resulting list of nodes consists of the Giant and the IN components."
   ]
  },
  {
   "cell_type": "code",
   "execution_count": null,
   "metadata": {
    "slideshow": {
     "slide_type": "fragment"
    }
   },
   "outputs": [],
   "source": [
    "inn = innreach(G, rep)\n",
    "len(inn)"
   ]
  },
  {
   "cell_type": "markdown",
   "metadata": {
    "slideshow": {
     "slide_type": "subslide"
    }
   },
   "source": [
    "The Giant is the intersection of `inn` and `out`. "
   ]
  },
  {
   "cell_type": "code",
   "execution_count": null,
   "metadata": {
    "slideshow": {
     "slide_type": "subslide"
    }
   },
   "outputs": [],
   "source": [
    "giant = inn & out"
   ]
  },
  {
   "cell_type": "markdown",
   "metadata": {
    "slideshow": {
     "slide_type": "subslide"
    }
   },
   "source": [
    "Let's call the union of `inn` and `out` the **core** of the graph `G`."
   ]
  },
  {
   "cell_type": "code",
   "execution_count": null,
   "metadata": {
    "slideshow": {
     "slide_type": "subslide"
    }
   },
   "outputs": [],
   "source": [
    "core = inn | out\n",
    "len(core)"
   ]
  },
  {
   "cell_type": "markdown",
   "metadata": {
    "slideshow": {
     "slide_type": "subslide"
    }
   },
   "source": [
    "And let's remove the Giant from `inn` and `out`:"
   ]
  },
  {
   "cell_type": "code",
   "execution_count": null,
   "metadata": {
    "slideshow": {
     "slide_type": "subslide"
    }
   },
   "outputs": [],
   "source": [
    "inn1 = inn - out\n",
    "out1 = out - inn\n",
    "len(giant), len(inn1), len(out1)"
   ]
  },
  {
   "cell_type": "markdown",
   "metadata": {},
   "source": [
    "## Code Corner"
   ]
  },
  {
   "cell_type": "markdown",
   "metadata": {},
   "source": [
    "### `python`\n",
    "\n",
    "* `setX & setY`, `setX | setY`, `setX - setY`: [[doc]](https://docs.python.org/2/library/stdtypes.html#set) set operations, intersection, union, difference\n",
    "\n",
    "\n",
    "* `x in setY`, `x not in setY`: set membership\n",
    "\n",
    "\n",
    "* `setX.issubset(setY)`, `setX <= setY`, `setX < setY`: subset relationship"
   ]
  },
  {
   "cell_type": "code",
   "execution_count": null,
   "metadata": {},
   "outputs": [],
   "source": []
  }
 ],
 "metadata": {
  "celltoolbar": "Slideshow",
  "kernelspec": {
   "display_name": "Python 3 (ipykernel)",
   "language": "python",
   "name": "python3"
  },
  "language_info": {
   "codemirror_mode": {
    "name": "ipython",
    "version": 3
   },
   "file_extension": ".py",
   "mimetype": "text/x-python",
   "name": "python",
   "nbconvert_exporter": "python",
   "pygments_lexer": "ipython3",
   "version": "3.9.7"
  }
 },
 "nbformat": 4,
 "nbformat_minor": 2
}
