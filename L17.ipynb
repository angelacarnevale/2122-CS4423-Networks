{
 "cells": [
  {
   "cell_type": "markdown",
   "metadata": {
    "slideshow": {
     "slide_type": "slide"
    }
   },
   "source": [
    "### CS4423 - Networks\n",
    "Angela Carnevale <br />\n",
    "School of Mathematical and Statistical Sciences<br />\n",
    "NUI Galway"
   ]
  },
  {
   "cell_type": "markdown",
   "metadata": {},
   "source": [
    "#### 5. Small Worlds\n",
    "\n",
    "# Week 9, lecture 2: \n",
    "\n",
    "# Transitivity and Clustering."
   ]
  },
  {
   "cell_type": "code",
   "execution_count": null,
   "metadata": {
    "slideshow": {
     "slide_type": "subslide"
    }
   },
   "outputs": [],
   "source": [
    "import networkx as nx\n",
    "opts = { \"with_labels\" : True, \"node_color\": 'y' }"
   ]
  },
  {
   "cell_type": "markdown",
   "metadata": {
    "slideshow": {
     "slide_type": "slide"
    }
   },
   "source": [
    "## Clustering"
   ]
  },
  {
   "cell_type": "markdown",
   "metadata": {
    "slideshow": {
     "slide_type": "subslide"
    }
   },
   "source": [
    "Recall:"
   ]
  },
  {
   "cell_type": "markdown",
   "metadata": {
    "slideshow": {
     "slide_type": "fragment"
    }
   },
   "source": [
    "**Definition (Graph transitivity).**\n",
    "Recall that a **triad** is a tree on $3$ nodes or, equivalently, a graph consisting of $2$\n",
    "adjacent edges (and the nodes they connect).  The **transitivity** $T$ of a graph $G = (X, E)$\n",
    "is the proportion of **transitive** triads, i.e., triads which are subgraphs of **triangles**. This proportion can be computed as follows:\n",
    "$$\n",
    "T = \\frac{3 n_{\\Delta}}{n_{\\wedge}},\n",
    "$$\n",
    "where $n_{\\Delta}$ is the number of triangles in $G$, and $n_{\\wedge}$ is the number of triads.\n"
   ]
  },
  {
   "cell_type": "markdown",
   "metadata": {
    "slideshow": {
     "slide_type": "subslide"
    }
   },
   "source": [
    "The transitivity $T$ of `G` is the quotient of these two quantities, $T = 3 n_{\\Delta}/n_{\\wedge}$,\n",
    "which `networkx` computes with a function `transitivity`."
   ]
  },
  {
   "cell_type": "markdown",
   "metadata": {
    "slideshow": {
     "slide_type": "slide"
    }
   },
   "source": [
    "The concept of **clustering** measures the transitivity of a node, or of an entire graph in a different way."
   ]
  },
  {
   "cell_type": "markdown",
   "metadata": {},
   "source": [
    "For that, we'll need the concept of **induced subgraph**. Given $G=(X,E)$ and $Y\\subset X$, the induced subgraph of $G$ on $Y$ is the graph $H=\\left(Y,E\\cap \\binom{Y}{2}\\right)$."
   ]
  },
  {
   "cell_type": "markdown",
   "metadata": {
    "slideshow": {
     "slide_type": "subslide"
    }
   },
   "source": [
    "**Definition (Clustering coefficient).**\n",
    "For a node $i \\in X$ of a graph $G = (X, E)$, denote by\n",
    "$G_i$ the subgraph induced on the neighbours of $i$ in $G$,\n",
    "and by $m(G_i)$ its number of edges."
   ]
  },
  {
   "cell_type": "markdown",
   "metadata": {
    "slideshow": {
     "slide_type": "subslide"
    }
   },
   "source": [
    "The **node clustering coefficient** $c_i$ of node $i$ is defined\n",
    "as\n",
    "$$\n",
    "c_i = \\begin{cases}\n",
    "\\binom{k_i}{2}^{-1} m(G_i), & k_i \\geq 2, \\\\\n",
    "0, & \\text{else.}\n",
    "\\end{cases}\n",
    "$$\n",
    "That is, the node clustering coefficient measures the proportion of existing edges its **social graph** among the possible edges."
   ]
  },
  {
   "cell_type": "markdown",
   "metadata": {
    "slideshow": {
     "slide_type": "subslide"
    }
   },
   "source": [
    "The **graph clustering coefficient** $C$ of $G$ is the \n",
    "average node clustering coefficient,\n",
    "$$\n",
    "C = \\langle c\\rangle = \\frac1n \\sum_{i=1}^n c_i.\n",
    "$$"
   ]
  },
  {
   "cell_type": "markdown",
   "metadata": {
    "slideshow": {
     "slide_type": "fragment"
    }
   },
   "source": [
    "By definition, $0 \\leq c_i \\leq 1$ for all nodes $i \\in X$, and $0 \\leq C \\leq 1$."
   ]
  },
  {
   "cell_type": "markdown",
   "metadata": {
    "slideshow": {
     "slide_type": "subslide"
    }
   },
   "source": [
    "**Example.**"
   ]
  },
  {
   "cell_type": "code",
   "execution_count": null,
   "metadata": {
    "slideshow": {
     "slide_type": "subslide"
    }
   },
   "outputs": [],
   "source": [
    "G = nx.Graph([(0,1), (0,2), (0,3), (0,4), (1,2), (1,3), (2,3), (3,4)])\n",
    "nx.draw(G, **opts)"
   ]
  },
  {
   "cell_type": "code",
   "execution_count": null,
   "metadata": {
    "slideshow": {
     "slide_type": "subslide"
    }
   },
   "outputs": [],
   "source": [
    "N = nx.neighbors(G, 0)\n",
    "S = G.subgraph(list(N))\n",
    "nx.draw(S, **opts)"
   ]
  },
  {
   "cell_type": "code",
   "execution_count": null,
   "metadata": {
    "slideshow": {
     "slide_type": "subslide"
    }
   },
   "outputs": [],
   "source": [
    "nS = S.number_of_nodes()\n",
    "nS_choose_2 = nS * (nS - 1) // 2\n",
    "mS = S.number_of_edges()\n",
    "print(nS, mS, mS / nS_choose_2 )"
   ]
  },
  {
   "cell_type": "code",
   "execution_count": null,
   "metadata": {
    "slideshow": {
     "slide_type": "subslide"
    }
   },
   "outputs": [],
   "source": [
    "nx.clustering(G)"
   ]
  },
  {
   "cell_type": "code",
   "execution_count": null,
   "metadata": {
    "slideshow": {
     "slide_type": "subslide"
    }
   },
   "outputs": [],
   "source": [
    "nx.average_clustering(G)"
   ]
  },
  {
   "cell_type": "markdown",
   "metadata": {
    "slideshow": {
     "slide_type": "subslide"
    }
   },
   "source": [
    "* The **node clustering coefficient** of any node $i$ in a $G(n, p)$ **random graph** is\n",
    "$c_i = p$. (In any selection of potential edges, by construction a proportion of $p$ is\n",
    "present in the random graph; this is true in particular for the $\\binom{k}{2}$ potential\n",
    "edges between the $k$ neighbors of a node of degree $k$.)\n",
    "\n",
    "* Thus the **graph clustering coefficient** of a $G(n, p)$ **random graph** is\n",
    "$$\n",
    "C = p.\n",
    "$$"
   ]
  },
  {
   "cell_type": "markdown",
   "metadata": {
    "slideshow": {
     "slide_type": "subslide"
    }
   },
   "source": [
    "* Note that when $p(n) = \\langle k \\rangle n^{-1}$ for a fixed expected average degree $\\langle k \\rangle$\n",
    "then $C = \\langle k \\rangle / n \\to 0$ for $n \\to \\infty$: in large random graphs\n",
    "the number of triangles is negligible.\n",
    "\n",
    "* In real world networks, one often observes that $C / \\langle k \\rangle$ does not depend\n",
    "on $n$ (as $n \\to \\infty$)."
   ]
  },
  {
   "cell_type": "markdown",
   "metadata": {
    "slideshow": {
     "slide_type": "subslide"
    }
   },
   "source": [
    "### Clustering vs Transitivity\n",
    "\n",
    "For a node $i \\in X$, denote by $n_i^{\\wedge} = \\binom{k_i}{2}$ the number of\n",
    "triads containing $i$ as their central node, and by $n_i^{\\Delta}$ the actual\n",
    "number of triangles containing $i$.\n",
    "\n",
    "Then the node clustering coefficient is $c_i = n_i^{\\Delta}/n_i^{\\wedge}$,\n",
    "or $n_i^{\\Delta} = n_i^{\\wedge} c_i$.\n",
    "\n",
    "Moreover $3 n_{\\Delta} = \\sum_i n_i^{\\Delta}$ and $n_{\\wedge} = \\sum_i n_i^{\\wedge}$."
   ]
  },
  {
   "cell_type": "markdown",
   "metadata": {
    "slideshow": {
     "slide_type": "subslide"
    }
   },
   "source": [
    "It follows that\n",
    "$$\n",
    "T = \\frac{3 n_{\\Delta}}{n_{\\wedge}} = \\frac1{n_{\\wedge}} \\sum_i n_i^{\\wedge} c_i\n",
    "$$\n",
    "in contrast to\n",
    "$$\n",
    "C = \\frac1n \\sum_i c_i.\n",
    "$$"
   ]
  },
  {
   "cell_type": "markdown",
   "metadata": {
    "slideshow": {
     "slide_type": "subslide"
    }
   },
   "source": [
    "That is, $C$ is the (plain) **average** of the node clustering coefficients, whereas $T$ is a\n",
    "**weighted average** of node clustering coefficients, giving higher weight to\n",
    "high degree nodes."
   ]
  },
  {
   "cell_type": "markdown",
   "metadata": {
    "slideshow": {
     "slide_type": "subslide"
    }
   },
   "source": [
    "The following example illustrates how $C$ and $T$ are different measures: as $n \\to \\infty$ here, $T \\to 0$ while $C \\to 1$."
   ]
  },
  {
   "cell_type": "code",
   "execution_count": null,
   "metadata": {
    "slideshow": {
     "slide_type": "subslide"
    }
   },
   "outputs": [],
   "source": [
    "n = 4\n",
    "G = nx.Graph([\"AB\"])\n",
    "G.add_edges_from([(x, k) for x in \"AB\" for k in range(n)])\n",
    "    \n",
    "nx.draw(G, **opts)"
   ]
  },
  {
   "cell_type": "code",
   "execution_count": null,
   "metadata": {
    "slideshow": {
     "slide_type": "subslide"
    }
   },
   "outputs": [],
   "source": [
    "nx.average_clustering(G), nx.transitivity(G)"
   ]
  },
  {
   "cell_type": "markdown",
   "metadata": {
    "slideshow": {
     "slide_type": "slide"
    }
   },
   "source": [
    "##  Code Corner"
   ]
  },
  {
   "cell_type": "markdown",
   "metadata": {
    "slideshow": {
     "slide_type": "subslide"
    }
   },
   "source": [
    "### `networkx`"
   ]
  },
  {
   "cell_type": "markdown",
   "metadata": {},
   "source": [
    "* `shortest_path_length` : [[doc]](https://networkx.org/documentation/stable/reference/algorithms/generated/networkx.algorithms.shortest_paths.generic.shortest_path_length.html)\n",
    "\n",
    "\n",
    "* `eccentricity`: [[doc]](https://networkx.org/documentation/stable/reference/algorithms/generated/networkx.algorithms.distance_measures.eccentricity.html)\n",
    "\n",
    "\n",
    "* `triangles`: [[doc]](https://networkx.org/documentation/stable/reference/algorithms/generated/networkx.algorithms.cluster.triangles.html)\n",
    "\n",
    "\n",
    "* `transitivity`: [[doc]](https://networkx.org/documentation/stable/reference/algorithms/generated/networkx.algorithms.cluster.transitivity.html)\n",
    "\n",
    "\n",
    "* `clustering`: [[doc]](https://networkx.org/documentation/stable/reference/algorithms/generated/networkx.algorithms.cluster.clustering.html)\n",
    "\n",
    "\n",
    "* `average_clustering`: [[doc]](https://networkx.org/documentation/stable/reference/algorithms/generated/networkx.algorithms.cluster.average_clustering.html)"
   ]
  },
  {
   "cell_type": "markdown",
   "metadata": {
    "slideshow": {
     "slide_type": "slide"
    }
   },
   "source": [
    "##  Exercises"
   ]
  },
  {
   "cell_type": "markdown",
   "metadata": {
    "slideshow": {
     "slide_type": "subslide"
    }
   },
   "source": [
    "1. What are the characteristic path length $L$, the transitivity $T$, and the clustering coefficient $C$\n",
    "of the Peterson graph?\n",
    "\n",
    "1. What are the characteristic path length $L$, the transitivity $T$, and the clustering coefficient $C$\n",
    "of the Florentine families marital graph?\n",
    "\n",
    "2. What is the transitivity and what is the clustering coefficient\n",
    "of a complete graph on $n$ nodes?\n",
    "\n",
    "3. What is the transitivity and what is the clustering coefficient\n",
    "of a tree on $n$ nodes?\n",
    "\n"
   ]
  },
  {
   "cell_type": "code",
   "execution_count": null,
   "metadata": {},
   "outputs": [],
   "source": []
  }
 ],
 "metadata": {
  "celltoolbar": "Slideshow",
  "kernelspec": {
   "display_name": "Python 3 (ipykernel)",
   "language": "python",
   "name": "python3"
  },
  "language_info": {
   "codemirror_mode": {
    "name": "ipython",
    "version": 3
   },
   "file_extension": ".py",
   "mimetype": "text/x-python",
   "name": "python",
   "nbconvert_exporter": "python",
   "pygments_lexer": "ipython3",
   "version": "3.9.7"
  }
 },
 "nbformat": 4,
 "nbformat_minor": 2
}
