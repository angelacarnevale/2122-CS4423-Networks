{
 "cells": [
  {
   "cell_type": "markdown",
   "metadata": {
    "slideshow": {
     "slide_type": "skip"
    }
   },
   "source": [
    "### CS4423 - Networks\n",
    "Angela Carnevale <br />\n",
    "School of Mathematical and Statistical Sciences <br />\n",
    "NUI Galway"
   ]
  },
  {
   "cell_type": "markdown",
   "metadata": {
    "slideshow": {
     "slide_type": "slide"
    }
   },
   "source": [
    "# Week 11, lecture 1: \n",
    "\n",
    "# More on the Watts-Strogatz model \n",
    "# Directed Networks and the WWW"
   ]
  },
  {
   "cell_type": "code",
   "execution_count": null,
   "metadata": {
    "slideshow": {
     "slide_type": "subslide"
    }
   },
   "outputs": [],
   "source": [
    "import networkx as nx\n",
    "opts = { \"with_labels\": True, \"node_color\": 'y' }"
   ]
  },
  {
   "cell_type": "markdown",
   "metadata": {
    "slideshow": {
     "slide_type": "subslide"
    }
   },
   "source": [
    "#### 5. Small worlds\n",
    "\n",
    "## Small worlds and the WS model"
   ]
  },
  {
   "cell_type": "markdown",
   "metadata": {
    "slideshow": {
     "slide_type": "subslide"
    }
   },
   "source": [
    "Recall the definition of an $(n,d)$-circle graph:"
   ]
  },
  {
   "cell_type": "markdown",
   "metadata": {
    "slideshow": {
     "slide_type": "fragment"
    }
   },
   "source": [
    "**Definition (Circle Graph).** For $1 < d < n/2$, an $(n, d)$-**circle graph**\n",
    "is obtained from a cycle on $n$ vertices by additionally linking each node\n",
    "to all nodes that are not more than $d$ steps away on the cycle.\n"
   ]
  },
  {
   "cell_type": "code",
   "execution_count": null,
   "metadata": {
    "slideshow": {
     "slide_type": "subslide"
    }
   },
   "outputs": [],
   "source": [
    "def circle_graph(n, d):\n",
    "    G = nx.cycle_graph(n)\n",
    "    for v in G:\n",
    "        for o in range(2, d+1):\n",
    "            G.add_edge(v, (v+o) % n)\n",
    "    return G"
   ]
  },
  {
   "cell_type": "markdown",
   "metadata": {
    "slideshow": {
     "slide_type": "subslide"
    }
   },
   "source": [
    "We have seen that in an $(n,d)$-circle graph the degree of a node, its social graph (and hence its clustering) only depend on $d$. More precisely:"
   ]
  },
  {
   "cell_type": "markdown",
   "metadata": {
    "slideshow": {
     "slide_type": "subslide"
    }
   },
   "source": [
    "* The graph clustering coefficient of an $(n, d)$-circle graph is **independent of $n$**, and can be determined as\n",
    "$$\n",
    "C = \\frac{3d - 3}{4d - 2} \\to \\frac34 \\text{, as } d \\to \\infty.\n",
    "$$\n",
    "In particular:\n",
    "$$\n",
    "\\begin{array}{l|rrrrr}\n",
    "d & 1 & 2 & 3 & 4 & 5 \\\\ \\hline\n",
    "C & 0 & 0.5 & 0.6 & 0.643 & 0.667\n",
    "\\end{array}\n",
    "$$"
   ]
  },
  {
   "cell_type": "markdown",
   "metadata": {
    "slideshow": {
     "slide_type": "subslide"
    }
   },
   "source": [
    "On the other hand, the characteristic path length of an $(n, d)$-circle graph is\n",
    "approximately\n",
    "$$\n",
    "L \\approx \\frac{n}{4d},\n",
    "$$\n",
    "growing linearly with $n$ (for fixed $d$). "
   ]
  },
  {
   "cell_type": "markdown",
   "metadata": {
    "slideshow": {
     "slide_type": "subslide"
    }
   },
   "source": [
    "In conclusion, such regular graphs have **high clustering** but **long shortest paths**,\n",
    "hence $(n, d)$-circle graphs do not exhibit the small world behaviour."
   ]
  },
  {
   "cell_type": "markdown",
   "metadata": {
    "slideshow": {
     "slide_type": "slide"
    }
   },
   "source": [
    "## The Watts-Strogatz Model"
   ]
  },
  {
   "cell_type": "markdown",
   "metadata": {
    "slideshow": {
     "slide_type": "subslide"
    }
   },
   "source": [
    "The following modification of the circle graph was suggested by Duncan J. Watts and Steven Strogatz ([1998](https://en.wikipedia.org/wiki/Watts%E2%80%93Strogatz_model))."
   ]
  },
  {
   "cell_type": "markdown",
   "metadata": {
    "slideshow": {
     "slide_type": "subslide"
    }
   },
   "source": [
    "**Definition (The WS Model).**\n",
    "Let $1 < d < n/2$ and $0\\leq p \\leq 1$.  An $(n, d, p)$-WS graph $G = (X, E)$ is constructed from\n",
    "an $(n, d)$-circle graph $G_0 = (X, E_0)$ by rewiring each of the edges in $E_0$ with probability $p$,\n",
    "as follows:"
   ]
  },
  {
   "cell_type": "markdown",
   "metadata": {
    "slideshow": {
     "slide_type": "subslide"
    }
   },
   "source": [
    "1. visit the nodes $X = \\{0, \\dots, n{-}1\\}$ in turn ('clockwise').\n",
    "\n",
    "2. for each node $i \\in X$ consider the $d$ edges connecting $i$ to $j$\n",
    "in a clockwise sense ($j = i+1, \\dots, i+d$).\n",
    "\n",
    "3. With probability $p$, in the edge $(i, j)$ replace\n",
    "$j$ by node $k \\in X$ chosen uniformly at random, subject to\n",
    "  * $k \\neq i$, and\n",
    "  * $(i, k)$ must not be an edge of $G$ already."
   ]
  },
  {
   "cell_type": "code",
   "execution_count": null,
   "metadata": {
    "slideshow": {
     "slide_type": "subslide"
    }
   },
   "outputs": [],
   "source": [
    "import random as rd\n",
    "def ws_graph(n, d, p):\n",
    "    G = circle_graph(n, d)\n",
    "    for v in G:\n",
    "        for o in range(1, d+1):\n",
    "            if rd.random() < p:\n",
    "                w = rd.randint(0,n-1)\n",
    "                if w != v and not G.has_edge(v, w):\n",
    "                    G.remove_edge(v, (v+o) % n)\n",
    "                    G.add_edge(v, w)\n",
    "    return G"
   ]
  },
  {
   "cell_type": "code",
   "execution_count": null,
   "metadata": {
    "slideshow": {
     "slide_type": "subslide"
    }
   },
   "outputs": [],
   "source": [
    "n, d = 21, 3\n",
    "G = ws_graph(n, d, 0.1)\n",
    "nx.draw_circular(G, **opts)\n",
    "print(nx.average_clustering(G))\n",
    "print(nx.average_shortest_path_length(G))\n",
    "print((G.order(), G.size()))"
   ]
  },
  {
   "cell_type": "code",
   "execution_count": null,
   "metadata": {
    "slideshow": {
     "slide_type": "subslide"
    }
   },
   "outputs": [],
   "source": [
    "G = ws_graph(n, d, 0.2)\n",
    "nx.draw_circular(G, **opts)\n",
    "print(nx.average_clustering(G))\n",
    "print(nx.average_shortest_path_length(G))\n",
    "print((G.order(), G.size()))"
   ]
  },
  {
   "cell_type": "code",
   "execution_count": null,
   "metadata": {
    "slideshow": {
     "slide_type": "subslide"
    }
   },
   "outputs": [],
   "source": [
    "G = ws_graph(n, d, 1)\n",
    "nx.draw_circular(G, **opts)\n",
    "print(nx.average_clustering(G))\n",
    "print(nx.average_shortest_path_length(G))\n",
    "print((G.order(), G.size()))"
   ]
  },
  {
   "cell_type": "markdown",
   "metadata": {
    "slideshow": {
     "slide_type": "subslide"
    }
   },
   "source": [
    "A WS graph with parameters $(n, d, p)$ can be generated with the command `nx.watts_strogatz_graph(n, 2*d, p)`."
   ]
  },
  {
   "cell_type": "code",
   "execution_count": null,
   "metadata": {
    "slideshow": {
     "slide_type": "subslide"
    }
   },
   "outputs": [],
   "source": [
    "n, d = 21, 3 \n",
    "G = nx.watts_strogatz_graph(n, 2*d, 0)\n",
    "nx.draw_circular(G, **opts)\n",
    "print(nx.average_clustering(G))\n",
    "print(nx.average_shortest_path_length(G))"
   ]
  },
  {
   "cell_type": "code",
   "execution_count": null,
   "metadata": {
    "slideshow": {
     "slide_type": "subslide"
    }
   },
   "outputs": [],
   "source": [
    "G = nx.watts_strogatz_graph(n, 2*d, 0.1)\n",
    "nx.draw_circular(G, **opts)\n",
    "print(nx.average_clustering(G))\n",
    "print(nx.average_shortest_path_length(G))"
   ]
  },
  {
   "cell_type": "code",
   "execution_count": null,
   "metadata": {
    "slideshow": {
     "slide_type": "subslide"
    }
   },
   "outputs": [],
   "source": [
    "G = nx.watts_strogatz_graph(n, 2*d, 0.2)\n",
    "nx.draw_circular(G, **opts)\n",
    "print(nx.average_clustering(G))\n",
    "print(nx.average_shortest_path_length(G))"
   ]
  },
  {
   "cell_type": "markdown",
   "metadata": {
    "slideshow": {
     "slide_type": "slide"
    }
   },
   "source": [
    "## Properties of WS-Graphs"
   ]
  },
  {
   "cell_type": "markdown",
   "metadata": {
    "slideshow": {
     "slide_type": "subslide"
    }
   },
   "source": [
    "* The small-world attributes of a $(n, d, p)$-WS graph depend on the probability $p$.\n",
    "The following measurements have been taken for $n = 1000$ and $d = 5$.\n",
    "\n",
    "<table>\n",
    "    <tr>\n",
    "        <th>$p$</th>\n",
    "        <th>$L$</th>\n",
    "        <th>$C$</th>\n",
    "    </tr>\n",
    "    <tr>\n",
    "        <td>$0$</td>\n",
    "        <td>$50.5$</td>\n",
    "        <td>$0.667$</td>\n",
    "    </tr>\n",
    "    <tr>\n",
    "        <td>$0.01$</td>\n",
    "        <td>$8.94$</td>\n",
    "        <td>$0.648$</td>\n",
    "    </tr>\n",
    "    <tr>\n",
    "        <td>$0.05$</td>\n",
    "        <td>$5.26$</td>\n",
    "        <td>$0.576$</td>\n",
    "    </tr>\n",
    "    <tr>\n",
    "        <td>$1$</td>\n",
    "        <td>$3.27$</td>\n",
    "        <td>$0.00910$</td>\n",
    "    </tr>\n",
    "</table>"
   ]
  },
  {
   "cell_type": "markdown",
   "metadata": {
    "slideshow": {
     "slide_type": "subslide"
    }
   },
   "source": [
    "One of the tasks in Assignment 4 asks to do this more systematically for $n=1000$, $d=5$ and $p\\in [0,1]$. In that case, you are asked to look at $50$ values of $p$ in that interval and comment on the corresponding values of $L$ and $C$."
   ]
  },
  {
   "cell_type": "markdown",
   "metadata": {
    "slideshow": {
     "slide_type": "subslide"
    }
   },
   "source": [
    "* One way to do that is to break $[0,1]$ uniformly into $50$ bits. In practice, you could loop over `range(50)` and proceed from $0$ with $1/50$ increments. \n",
    "\n",
    "* You are free to choose the $50$ distinct values of $p$ in other ways too (as long as they belong to the interval $[0,1]$)."
   ]
  },
  {
   "cell_type": "markdown",
   "metadata": {
    "slideshow": {
     "slide_type": "slide"
    }
   },
   "source": [
    "#### 6. Directed Networks\n",
    "\n",
    "## The Structure of the World Wide Web"
   ]
  },
  {
   "cell_type": "markdown",
   "metadata": {
    "slideshow": {
     "slide_type": "subslide"
    }
   },
   "source": [
    "So far, the networks that have been discussed most of the time\n",
    "consisted of people or organizations, connected by links representing\n",
    "opportunities for interactions.   The World Wide Web is an example\n",
    "of a network of a different kind, a so-called **information network**."
   ]
  },
  {
   "cell_type": "markdown",
   "metadata": {
    "slideshow": {
     "slide_type": "slide"
    }
   },
   "source": [
    "###  Information Networks"
   ]
  },
  {
   "cell_type": "markdown",
   "metadata": {
    "slideshow": {
     "slide_type": "subslide"
    }
   },
   "source": [
    "Information networks connect pieces of information,\n",
    "like documents, or parts of documents, through links\n",
    "that represent references of some kind.  Such links,\n",
    "in contrast to social relationships which are typically symmetric,\n",
    "only point in one direction.\n",
    "The underlying graph of an information network thus\n",
    "is a **directed graph**."
   ]
  },
  {
   "cell_type": "markdown",
   "metadata": {
    "slideshow": {
     "slide_type": "subslide"
    }
   },
   "source": [
    "Information networks have existed before the internet.  Some prominent\n",
    "examples include:"
   ]
  },
  {
   "cell_type": "markdown",
   "metadata": {
    "slideshow": {
     "slide_type": "subslide"
    }
   },
   "source": [
    "* **Academic Publications.**  In the scientific literature it is customary\n",
    "to give credit to sources that have been used in the form of\n",
    "references to those publications that contain those sources.\n",
    "This practice creates a network whose nodes are the\n",
    "publications, and whose links represent the references, pointing from\n",
    "the citing article back to the cited article.\n",
    "A large part of this network in the mathematical literature is\n",
    "captured on [MathSciNet](http://www.ams.org/mathscinet)."
   ]
  },
  {
   "cell_type": "markdown",
   "metadata": {
    "slideshow": {
     "slide_type": "subslide"
    }
   },
   "source": [
    "* **Mathematical Proofs.**  In mathematics, the proof of a particular theorem\n",
    "usually relies on theorems that have already been proved.\n",
    "Citing a theorem in a proof thus creates a link from the theorem\n",
    "being proved back to the theorem being used, in a network of mathematical\n",
    "theorems.  In a similar way, a complex computer program,\n",
    "consisting of several subroutines, can be regarded\n",
    "as a network of subroutines, pointing to each other through links\n",
    "that arise from one subroutine calling another."
   ]
  },
  {
   "cell_type": "markdown",
   "metadata": {
    "slideshow": {
     "slide_type": "subslide"
    }
   },
   "source": [
    "* **Technical Documentation.** The documentation of complex systems,\n",
    "such as computer software, typically consists of a collection of\n",
    "articles (manual pages), each describing one aspect of the system,\n",
    "frequently using cross-references to each other.  Here the network\n",
    "consists of the manual pages, and the links represent those cross\n",
    "references.  In a similar way, an encyclopedia (or a dictionary)\n",
    "organizes its content as a sequence of articles, sorted\n",
    "alphabetically, with supporting cross-references."
   ]
  },
  {
   "cell_type": "markdown",
   "metadata": {
    "slideshow": {
     "slide_type": "slide"
    }
   },
   "source": [
    "### Hypertext"
   ]
  },
  {
   "cell_type": "markdown",
   "metadata": {
    "slideshow": {
     "slide_type": "subslide"
    }
   },
   "source": [
    "The **World Wide Web** arose out of the desire to make technical\n",
    "documentation more easily accessible by using the physical infrastructure\n",
    "of the rapidly growing internet.\n",
    "It was conceived by [Tim Berners-Lee](https://en.wikipedia.org/wiki/Tim_Berners-Lee) around 1990\n",
    "as information management system at [CERN](http://info.cern.ch/hypertext/WWW/TheProject.html)."
   ]
  },
  {
   "cell_type": "markdown",
   "metadata": {
    "slideshow": {
     "slide_type": "subslide"
    }
   },
   "source": [
    "In this system, documents are **web pages**, that anyone can create\n",
    "and store in a publicly accessible place on their computer.  Moreover,\n",
    "it supplies a **web browser**, a piece of software that can retrieve\n",
    "the web pages from those public spaces, allowing others to easily\n",
    "access those documents."
   ]
  },
  {
   "cell_type": "markdown",
   "metadata": {
    "slideshow": {
     "slide_type": "subslide"
    }
   },
   "source": [
    "Web pages contain **hypertext**, that is a mixture of plain text and **hyperlinks**.  Here, a hyperlink (or just link) is a reference to another document\n",
    "that the reader can follow by simply clicking on it.  Hyperlinks have a **source**\n",
    "(the document they are contained in) and a **target** (the document\n",
    "they reference).\n",
    "This creates a network of documents as nodes\n",
    "and hyperlinks as **directed edges** between them."
   ]
  },
  {
   "cell_type": "markdown",
   "metadata": {
    "slideshow": {
     "slide_type": "subslide"
    }
   },
   "source": [
    "There are many alternative ways to organise information: alphabetically\n",
    "(like the telephone book),\n",
    "hierarchical (in folders like the files on a computer), ...\n",
    "Certainly, the physical constraints of the environment\n",
    "(like the fact that books need to be stored on shelves,\n",
    "that pages in a book come in order)\n",
    "have an influence on how well a particular solution works."
   ]
  },
  {
   "cell_type": "markdown",
   "metadata": {
    "slideshow": {
     "slide_type": "subslide"
    }
   },
   "source": [
    "Hypertext originates from the works of the visionaries\n",
    "[Vannevar Bush](https://en.wikipedia.org/wiki/Vannevar_Bush) (the Memex, 1945) and\n",
    "[Ted Nelson](https://en.wikipedia.org/wiki/Ted_Nelson) (Xanadu Project, 1965)."
   ]
  },
  {
   "cell_type": "markdown",
   "metadata": {
    "slideshow": {
     "slide_type": "subslide"
    }
   },
   "source": [
    "It will be useful to distinguish between **navigational links**\n",
    "(providing access to related pages)\n",
    "and **transactional links** (which exist more\n",
    "as a side effect--like ordering a book,\n",
    "or sending an email--than\n",
    "for the sake of leading to the next page).\n",
    "The distinction is not always clear,\n",
    "but transactional links are the kind that is of\n",
    "little interest for search engines.\n",
    "It's the navigational links that\n",
    "form the edges of the directed graph\n",
    "that turns the Web into\n",
    "an information network."
   ]
  },
  {
   "cell_type": "markdown",
   "metadata": {
    "slideshow": {
     "slide_type": "subslide"
    }
   },
   "source": [
    "As with undirected graphs, an interesting question in\n",
    "directed graphs is: which nodes can be reached from\n",
    "a given node?"
   ]
  },
  {
   "cell_type": "markdown",
   "metadata": {
    "slideshow": {
     "slide_type": "slide"
    }
   },
   "source": [
    "### Reachability in Directed Graphs"
   ]
  },
  {
   "cell_type": "markdown",
   "metadata": {
    "slideshow": {
     "slide_type": "subslide"
    }
   },
   "source": [
    "Recall that a **directed graph** is a pair $G = (X, E)$\n",
    "with **vertex set** $X$  and **edge set** $E \\subseteq X^2 = X \\times X$.\n",
    "For an edge $(x, y) \\in E$ we sometimes write $x \\to y$."
   ]
  },
  {
   "cell_type": "markdown",
   "metadata": {
    "slideshow": {
     "slide_type": "subslide"
    }
   },
   "source": [
    "A **path** in a directed graph  $G = (X, E)$\n",
    "is a sequence of nodes $(x_0, x_1, \\dots, x_l)$\n",
    "with $x_{i-1} \\to x_i$ for $i = 1,\\dots, l$.\n",
    "The number $l$ is called the **length** of the path.\n",
    "We write $x \\leadsto y$\n",
    "if there exists a path (possibly of length $0$)\n",
    "from $x$ to $y$ in $G$."
   ]
  },
  {
   "cell_type": "markdown",
   "metadata": {
    "slideshow": {
     "slide_type": "subslide"
    }
   },
   "source": [
    "A directed graph $G$ is **weakly connected** if, when\n",
    "considerd as undirected graph, it is connected.\n",
    "The **weakly connnected components** (WCCs) of $G$ are its connected components,\n",
    "when considered as undirected graph."
   ]
  },
  {
   "cell_type": "markdown",
   "metadata": {
    "slideshow": {
     "slide_type": "subslide"
    }
   },
   "source": [
    "A directed graph $G$ is **strongly connected** if, for\n",
    "each pair of vertices $x, y \\in X$, there is a path from\n",
    "$x$ to $y$ in $G$, i.e., if $x \\leadsto y$."
   ]
  },
  {
   "cell_type": "markdown",
   "metadata": {
    "slideshow": {
     "slide_type": "subslide"
    }
   },
   "source": [
    "A **strongly connected component (SCC)** of a directed graph $G$\n",
    "is a subset $C$ of $X$ which is (i) strongly connected,\n",
    "and (ii) not part of a larger strongly connected subset of $X$."
   ]
  },
  {
   "cell_type": "markdown",
   "metadata": {
    "slideshow": {
     "slide_type": "subslide"
    }
   },
   "source": [
    "In general, a directed graph is a collection of WCCs.\n",
    "Each WCC in turn is a collection of SCCs."
   ]
  },
  {
   "cell_type": "markdown",
   "metadata": {
    "slideshow": {
     "slide_type": "subslide"
    }
   },
   "source": [
    "When a directed graph $G$ is regarded as a **relation**\n",
    "on the set $X$, strongly connected components can be described as\n",
    "the **equivalence classes** of an equivalence relation that is obtained\n",
    "as follows."
   ]
  },
  {
   "cell_type": "markdown",
   "metadata": {
    "slideshow": {
     "slide_type": "subslide"
    }
   },
   "source": [
    "First note that the relation ${x \\leadsto y}$\n",
    "is the reflexive and transitive closure of the\n",
    "edge relation $x \\to y$.  Thus, by construction it is reflexive and\n",
    "transitive.  It might not be anti-symmetric, though,\n",
    "meaning that there might be vertices $x$ and $y$\n",
    "with $x\\leadsto y$ and $y \n",
    "\\leadsto x$."
   ]
  },
  {
   "cell_type": "markdown",
   "metadata": {
    "slideshow": {
     "slide_type": "subslide"
    }
   },
   "source": [
    "However, the new relation $x \\equiv y$,\n",
    "defined as $x \\leadsto y$ and $y \\leadsto x$\n",
    "is an equivalence relation (why?)\n",
    "and its equivalence classes are the strongly connected\n",
    "components of $G$.  Denote the class of $x \\in X$ by $[x]$."
   ]
  },
  {
   "cell_type": "markdown",
   "metadata": {
    "slideshow": {
     "slide_type": "subslide"
    }
   },
   "source": [
    "Moreover, there is a partial order relation\n",
    "$\\leq$ (a relation which is reflexive, transitive and anti-symmetric)\n",
    "on the set of equivalence classes,\n",
    "$[x] \\leq [y]$ if $x \\leadsto\n",
    "y$."
   ]
  },
  {
   "cell_type": "markdown",
   "metadata": {
    "slideshow": {
     "slide_type": "slide"
    }
   },
   "source": [
    "## Code Corner"
   ]
  },
  {
   "cell_type": "markdown",
   "metadata": {
    "slideshow": {
     "slide_type": "subslide"
    }
   },
   "source": [
    "### `random`"
   ]
  },
  {
   "cell_type": "markdown",
   "metadata": {},
   "source": [
    "* `randint`: [[doc]](https://docs.python.org/2/library/random.html#random.randint) random integer"
   ]
  },
  {
   "cell_type": "markdown",
   "metadata": {
    "slideshow": {
     "slide_type": "subslide"
    }
   },
   "source": [
    "### `networkx`"
   ]
  },
  {
   "cell_type": "markdown",
   "metadata": {},
   "source": [
    "* `cycle_graph`: [[doc]](https://networkx.github.io/documentation/networkx-1.9/reference/generated/networkx.generators.classic.cycle_graph.html)\n",
    "\n",
    "* `watts_strogatz_graph`: [[doc]](https://networkx.github.io/documentation/stable/reference/generated/networkx.generators.random_graphs.watts_strogatz_graph.html)\n",
    "\n",
    "* `draw_circular`: [[doc]](https://networkx.github.io/documentation/stable/reference/generated/networkx.drawing.nx_pylab.draw_circular.html)"
   ]
  },
  {
   "cell_type": "markdown",
   "metadata": {
    "slideshow": {
     "slide_type": "slide"
    }
   },
   "source": [
    "##  Exercises"
   ]
  },
  {
   "cell_type": "markdown",
   "metadata": {},
   "source": [
    "1. In terms of the parameters, $n$, $d$ and $p$, what is the clustering coefficient $C$ of an $(n, d, p)$-WS graph?\n",
    "\n",
    "1. In terms of the parameters, $n$, $d$ and $p$, what is the average shortest path length $L$  of an $(n, d, p)$-WS graph?"
   ]
  },
  {
   "cell_type": "code",
   "execution_count": null,
   "metadata": {},
   "outputs": [],
   "source": []
  }
 ],
 "metadata": {
  "celltoolbar": "Slideshow",
  "kernelspec": {
   "display_name": "Python 3 (ipykernel)",
   "language": "python",
   "name": "python3"
  },
  "language_info": {
   "codemirror_mode": {
    "name": "ipython",
    "version": 3
   },
   "file_extension": ".py",
   "mimetype": "text/x-python",
   "name": "python",
   "nbconvert_exporter": "python",
   "pygments_lexer": "ipython3",
   "version": "3.9.7"
  }
 },
 "nbformat": 4,
 "nbformat_minor": 2
}
